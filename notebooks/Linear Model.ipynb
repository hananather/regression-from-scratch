{
 "cells": [
  {
   "cell_type": "code",
   "execution_count": 15,
   "id": "146cfcf0-2ee7-44cb-bd27-ca73fd4e6175",
   "metadata": {},
   "outputs": [],
   "source": [
    "from jaxtyping import Float\n",
    "\n",
    "\n",
    "def linear_model(w: Float[Tensor, \"c\"],\n",
    "                 b: Float,\n",
    "                 X: Float[Tensor, \"n c\"]) -> Float[Tensor, \"n\"]:\n",
    "    return X @ w + b"
   ]
  },
  {
   "cell_type": "code",
   "execution_count": 18,
   "id": "642e70d2-33b8-44e3-865d-81f89877afcc",
   "metadata": {},
   "outputs": [],
   "source": [
    "import numpy as np\n",
    "from typing import Union\n",
    "# Type aliases for clarity\n",
    "Array = np.ndarray\n",
    "FloatArray = Union[float, Array]\n",
    "\n",
    "def linear_model(w: FloatArray,\n",
    "                b: float,\n",
    "                X: FloatArray) -> FloatArray:\n",
    "    return X @ w + b"
   ]
  },
  {
   "cell_type": "code",
   "execution_count": 25,
   "id": "a867f5e8-dbbb-4942-a315-5e75158f5526",
   "metadata": {},
   "outputs": [
    {
     "ename": "ValueError",
     "evalue": "As of jaxtyping v0.2.0, type annotations must now include both an array type and a shape. For example `Float[Array, 'foo bar']`.\nEllipsis can be used to accept any shape: `Float[Array, '...']`.",
     "output_type": "error",
     "traceback": [
      "\u001b[0;31m---------------------------------------------------------------------------\u001b[0m",
      "\u001b[0;31mValueError\u001b[0m                                Traceback (most recent call last)",
      "Cell \u001b[0;32mIn[25], line 2\u001b[0m\n\u001b[1;32m      1\u001b[0m \u001b[38;5;28;01mfrom\u001b[39;00m \u001b[38;5;21;01mjaxtyping\u001b[39;00m \u001b[38;5;28;01mimport\u001b[39;00m Float\n\u001b[0;32m----> 2\u001b[0m \u001b[38;5;28;01mdef\u001b[39;00m \u001b[38;5;21mleast_square_gd\u001b[39m (X: \u001b[43mFloat\u001b[49m\u001b[43m[\u001b[49m\u001b[38;5;124;43m\"\u001b[39;49m\u001b[38;5;124;43mn c\u001b[39;49m\u001b[38;5;124;43m\"\u001b[39;49m\u001b[43m]\u001b[49m, y: Float[Tensor, \u001b[38;5;124m\"\u001b[39m\u001b[38;5;124mn\u001b[39m\u001b[38;5;124m\"\u001b[39m], learning_rate \u001b[38;5;241m=\u001b[39m \u001b[38;5;241m1e-3\u001b[39m) \u001b[38;5;241m-\u001b[39m\u001b[38;5;241m>\u001b[39m Float[Tensor, \u001b[38;5;124m\"\u001b[39m\u001b[38;5;124mc\u001b[39m\u001b[38;5;124m\"\u001b[39m]:\n\u001b[1;32m      4\u001b[0m     w \u001b[38;5;241m=\u001b[39m torch\u001b[38;5;241m.\u001b[39mrandn(X\u001b[38;5;241m.\u001b[39mshape[\u001b[38;5;241m1\u001b[39m], \u001b[38;5;241m1\u001b[39m)\n\u001b[1;32m      6\u001b[0m     \u001b[38;5;28;01mfor\u001b[39;00m i \u001b[38;5;129;01min\u001b[39;00m \u001b[38;5;28mrange\u001b[39m (\u001b[38;5;241m100\u001b[39m):\n",
      "File \u001b[0;32m~/Desktop/Python/regressionfromscratch/venv/lib/python3.12/site-packages/jaxtyping/_array_types.py:620\u001b[0m, in \u001b[0;36m_MetaAbstractDtype.__getitem__\u001b[0;34m(cls, item)\u001b[0m\n\u001b[1;32m    618\u001b[0m \u001b[38;5;28;01mdef\u001b[39;00m \u001b[38;5;21m__getitem__\u001b[39m(\u001b[38;5;28mcls\u001b[39m, item: \u001b[38;5;28mtuple\u001b[39m[Any, \u001b[38;5;28mstr\u001b[39m]):\n\u001b[1;32m    619\u001b[0m     \u001b[38;5;28;01mif\u001b[39;00m \u001b[38;5;129;01mnot\u001b[39;00m \u001b[38;5;28misinstance\u001b[39m(item, \u001b[38;5;28mtuple\u001b[39m) \u001b[38;5;129;01mor\u001b[39;00m \u001b[38;5;28mlen\u001b[39m(item) \u001b[38;5;241m!=\u001b[39m \u001b[38;5;241m2\u001b[39m:\n\u001b[0;32m--> 620\u001b[0m         \u001b[38;5;28;01mraise\u001b[39;00m \u001b[38;5;167;01mValueError\u001b[39;00m(\n\u001b[1;32m    621\u001b[0m             \u001b[38;5;124m\"\u001b[39m\u001b[38;5;124mAs of jaxtyping v0.2.0, type annotations must now include both an \u001b[39m\u001b[38;5;124m\"\u001b[39m\n\u001b[1;32m    622\u001b[0m             \u001b[38;5;124m\"\u001b[39m\u001b[38;5;124marray type and a shape. For example `Float[Array, \u001b[39m\u001b[38;5;124m'\u001b[39m\u001b[38;5;124mfoo bar\u001b[39m\u001b[38;5;124m'\u001b[39m\u001b[38;5;124m]`.\u001b[39m\u001b[38;5;130;01m\\n\u001b[39;00m\u001b[38;5;124m\"\u001b[39m\n\u001b[1;32m    623\u001b[0m             \u001b[38;5;124m\"\u001b[39m\u001b[38;5;124mEllipsis can be used to accept any shape: `Float[Array, \u001b[39m\u001b[38;5;124m'\u001b[39m\u001b[38;5;124m...\u001b[39m\u001b[38;5;124m'\u001b[39m\u001b[38;5;124m]`.\u001b[39m\u001b[38;5;124m\"\u001b[39m\n\u001b[1;32m    624\u001b[0m         )\n\u001b[1;32m    625\u001b[0m     array_type, dim_str \u001b[38;5;241m=\u001b[39m item\n\u001b[1;32m    626\u001b[0m     dim_str \u001b[38;5;241m=\u001b[39m dim_str\u001b[38;5;241m.\u001b[39mstrip()\n",
      "\u001b[0;31mValueError\u001b[0m: As of jaxtyping v0.2.0, type annotations must now include both an array type and a shape. For example `Float[Array, 'foo bar']`.\nEllipsis can be used to accept any shape: `Float[Array, '...']`."
     ]
    }
   ],
   "source": [
    "from jaxtyping import Float\n",
    "def least_square_gd (X: Float[\"n c\"], y: Float[Tensor, \"n\"], learning_rate = 1e-3) -> Float[Tensor, \"c\"]:\n",
    "    \n",
    "    w = torch.randn(X.shape[1], 1)\n",
    "\n",
    "    for i in range (100):\n",
    "        w = w + learning * X.T @ (y - X @ w)\n",
    "    return\n",
    "                        \n",
    "    \n",
    "                        "
   ]
  },
  {
   "cell_type": "code",
   "execution_count": 26,
   "id": "c786d573-5742-4d0d-9cf2-7666eace1b8c",
   "metadata": {},
   "outputs": [
    {
     "name": "stdout",
     "output_type": "stream",
     "text": [
      "tensor([[0.4546],\n",
      "        [1.2255]])\n"
     ]
    },
    {
     "name": "stderr",
     "output_type": "stream",
     "text": [
      "/var/folders/ry/1ct1kks556s6ffsdyjq1grdh0000gn/T/ipykernel_44110/4201306117.py:8: UserWarning: As of jaxtyping version 0.2.24, jaxtyping now prefers the syntax\n",
      "```\n",
      "from jaxtyping import jaxtyped\n",
      "# Use your favourite typechecker: usually one of the two lines below.\n",
      "from typeguard import typechecked as typechecker\n",
      "from beartype import beartype as typechecker\n",
      "\n",
      "@jaxtyped(typechecker=typechecker)\n",
      "def foo(...):\n",
      "```\n",
      "and the old double-decorator syntax\n",
      "```\n",
      "@jaxtyped\n",
      "@typechecker\n",
      "def foo(...):\n",
      "```\n",
      "should no longer be used. (It will continue to work as it did before, but the new approach will produce more readable error messages.)\n",
      "In particular note that `typechecker` must be passed via keyword argument; the following is not valid:\n",
      "```\n",
      "@jaxtyped(typechecker)\n",
      "def foo(...):\n",
      "```\n",
      "\n",
      "  @jaxtyped\n"
     ]
    }
   ],
   "source": [
    "import torch\n",
    "from jaxtyping import Float, jaxtyped\n",
    "from typing import Any\n",
    "\n",
    "# Define Tensor type\n",
    "Tensor = torch.Tensor\n",
    "\n",
    "@jaxtyped\n",
    "def least_square_gd(X: Float[Tensor, \"n c\"], y: Float[Tensor, \"n\"], learning_rate: float = 1e-3, num_iterations: int = 100) -> Float[Tensor, \"c\"]:\n",
    "    # Initialize weights randomly\n",
    "    w = torch.randn(X.shape[1], 1, dtype=X.dtype)\n",
    "\n",
    "    for i in range(num_iterations):\n",
    "        # Compute the predictions\n",
    "        predictions = X @ w\n",
    "        \n",
    "        # Compute the error\n",
    "        error = y - predictions\n",
    "        \n",
    "        # Compute the gradient\n",
    "        gradient = X.T @ error\n",
    "        \n",
    "        # Update the weights\n",
    "        w += learning_rate * gradient / X.shape[0]\n",
    "\n",
    "    return w\n",
    "\n",
    "# Example input data\n",
    "X = torch.tensor([[1.0, 2.0], [3.0, 4.0]], dtype=torch.float32)  # 2 samples, 2 features\n",
    "y = torch.tensor([[5.0], [6.0]], dtype=torch.float32)  # 2 samples, 1 target\n",
    "\n",
    "# Call the least_square_gd function\n",
    "w = least_square_gd(X, y)\n",
    "\n",
    "print(w)  # Output: [weights after gradient descent]\n"
   ]
  },
  {
   "cell_type": "code",
   "execution_count": null,
   "id": "2bec4027-f3bf-404b-ab04-905826a0c815",
   "metadata": {},
   "outputs": [],
   "source": []
  }
 ],
 "metadata": {
  "kernelspec": {
   "display_name": "Python 3 (ipykernel)",
   "language": "python",
   "name": "python3"
  },
  "language_info": {
   "codemirror_mode": {
    "name": "ipython",
    "version": 3
   },
   "file_extension": ".py",
   "mimetype": "text/x-python",
   "name": "python",
   "nbconvert_exporter": "python",
   "pygments_lexer": "ipython3",
   "version": "3.12.0"
  }
 },
 "nbformat": 4,
 "nbformat_minor": 5
}
